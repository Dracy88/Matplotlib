{
 "cells": [
  {
   "cell_type": "markdown",
   "metadata": {},
   "source": [
    "# Bar Charts"
   ]
  },
  {
   "cell_type": "markdown",
   "metadata": {},
   "source": [
    "## Classic"
   ]
  },
  {
   "cell_type": "code",
   "execution_count": 45,
   "metadata": {},
   "outputs": [
    {
     "data": {
      "text/plain": [
       "<Figure size 432x288 with 0 Axes>"
      ]
     },
     "execution_count": 45,
     "metadata": {},
     "output_type": "execute_result"
    },
    {
     "data": {
      "text/plain": [
       "<BarContainer object of 8 artists>"
      ]
     },
     "execution_count": 45,
     "metadata": {},
     "output_type": "execute_result"
    },
    {
     "data": {
      "image/png": "[encoded data removed]",
      "text/plain": [
       "<Figure size 432x288 with 1 Axes>"
      ]
     },
     "metadata": {
      "needs_background": "light"
     },
     "output_type": "display_data"
    }
   ],
   "source": [
    "import matplotlib.pyplot as plt\n",
    "import numpy as np\n",
    "import pandas as pd\n",
    "from scipy.stats import t\n",
    " \n",
    "from IPython.core.interactiveshell import InteractiveShell\n",
    "InteractiveShell.ast_node_interactivity = \"all\"\n",
    "\n",
    "linear_data = np.array([1,2,3,4,5,6,7,8])\n",
    "exponential_data = linear_data**2\n",
    "\n",
    "plt.figure()\n",
    "xvals = range(len(linear_data))\n",
    "plt.bar(xvals, linear_data, width = 0.3, color='blue')"
   ]
  },
  {
   "cell_type": "markdown",
   "metadata": {},
   "source": [
    "## Stacked"
   ]
  },
  {
   "cell_type": "markdown",
   "metadata": {},
   "source": [
    "### Vertical"
   ]
  },
  {
   "cell_type": "code",
   "execution_count": 22,
   "metadata": {},
   "outputs": [
    {
     "data": {
      "text/plain": [
       "<Figure size 432x288 with 0 Axes>"
      ]
     },
     "execution_count": 22,
     "metadata": {},
     "output_type": "execute_result"
    },
    {
     "data": {
      "text/plain": [
       "<BarContainer object of 8 artists>"
      ]
     },
     "execution_count": 22,
     "metadata": {},
     "output_type": "execute_result"
    },
    {
     "data": {
      "text/plain": [
       "<BarContainer object of 8 artists>"
      ]
     },
     "execution_count": 22,
     "metadata": {},
     "output_type": "execute_result"
    },
    {
     "data": {
      "image/png": "[encoded data removed]",
      "text/plain": [
       "<Figure size 432x288 with 1 Axes>"
      ]
     },
     "metadata": {
      "needs_background": "light"
     },
     "output_type": "display_data"
    }
   ],
   "source": [
    "plt.figure()\n",
    "xvals = range(len(linear_data))\n",
    "plt.bar(xvals, linear_data, width = 0.3, color='b')\n",
    "plt.bar(xvals, exponential_data, width = 0.3, bottom=linear_data, color='r')"
   ]
  },
  {
   "cell_type": "markdown",
   "metadata": {},
   "source": [
    "### Horizzontal"
   ]
  },
  {
   "cell_type": "code",
   "execution_count": 23,
   "metadata": {},
   "outputs": [
    {
     "data": {
      "text/plain": [
       "<Figure size 432x288 with 0 Axes>"
      ]
     },
     "execution_count": 23,
     "metadata": {},
     "output_type": "execute_result"
    },
    {
     "data": {
      "text/plain": [
       "<BarContainer object of 8 artists>"
      ]
     },
     "execution_count": 23,
     "metadata": {},
     "output_type": "execute_result"
    },
    {
     "data": {
      "text/plain": [
       "<BarContainer object of 8 artists>"
      ]
     },
     "execution_count": 23,
     "metadata": {},
     "output_type": "execute_result"
    },
    {
     "data": {
      "image/png": "[encoded data removed]",
      "text/plain": [
       "<Figure size 432x288 with 1 Axes>"
      ]
     },
     "metadata": {
      "needs_background": "light"
     },
     "output_type": "display_data"
    }
   ],
   "source": [
    "# or use barh for horizontal bar charts\n",
    "plt.figure()\n",
    "xvals = range(len(linear_data))\n",
    "plt.barh(xvals, linear_data, height = 0.3, color='b')\n",
    "plt.barh(xvals, exponential_data, height = 0.3, left=linear_data, color='r')"
   ]
  },
  {
   "cell_type": "markdown",
   "metadata": {},
   "source": [
    "## With error bars"
   ]
  },
  {
   "cell_type": "code",
   "execution_count": 24,
   "metadata": {},
   "outputs": [
    {
     "data": {
      "text/plain": [
       "(4, 3650)"
      ]
     },
     "execution_count": 24,
     "metadata": {},
     "output_type": "execute_result"
    },
    {
     "data": {
      "text/html": [
       "<div>\n",
       "<style scoped>\n",
       "    .dataframe tbody tr th:only-of-type {\n",
       "        vertical-align: middle;\n",
       "    }\n",
       "\n",
       "    .dataframe tbody tr th {\n",
       "        vertical-align: top;\n",
       "    }\n",
       "\n",
       "    .dataframe thead th {\n",
       "        text-align: right;\n",
       "    }\n",
       "</style>\n",
       "<table border=\"1\" class=\"dataframe\">\n",
       "  <thead>\n",
       "    <tr style=\"text-align: right;\">\n",
       "      <th></th>\n",
       "      <th>0</th>\n",
       "      <th>1</th>\n",
       "      <th>2</th>\n",
       "      <th>3</th>\n",
       "      <th>4</th>\n",
       "      <th>5</th>\n",
       "      <th>6</th>\n",
       "      <th>7</th>\n",
       "      <th>8</th>\n",
       "      <th>9</th>\n",
       "      <th>...</th>\n",
       "      <th>3640</th>\n",
       "      <th>3641</th>\n",
       "      <th>3642</th>\n",
       "      <th>3643</th>\n",
       "      <th>3644</th>\n",
       "      <th>3645</th>\n",
       "      <th>3646</th>\n",
       "      <th>3647</th>\n",
       "      <th>3648</th>\n",
       "      <th>3649</th>\n",
       "    </tr>\n",
       "  </thead>\n",
       "  <tbody>\n",
       "    <tr>\n",
       "      <th>1992</th>\n",
       "      <td>125822.459981</td>\n",
       "      <td>-24572.668866</td>\n",
       "      <td>-269811.700635</td>\n",
       "      <td>-195126.474203</td>\n",
       "      <td>274422.405004</td>\n",
       "      <td>-2642.929811</td>\n",
       "      <td>55841.742259</td>\n",
       "      <td>-176847.193256</td>\n",
       "      <td>-140369.792670</td>\n",
       "      <td>-388913.843779</td>\n",
       "      <td>...</td>\n",
       "      <td>-80358.297627</td>\n",
       "      <td>-62681.870495</td>\n",
       "      <td>-34258.467703</td>\n",
       "      <td>-363519.496675</td>\n",
       "      <td>218045.856846</td>\n",
       "      <td>41261.938158</td>\n",
       "      <td>117661.585296</td>\n",
       "      <td>131490.047258</td>\n",
       "      <td>173495.068746</td>\n",
       "      <td>120505.200705</td>\n",
       "    </tr>\n",
       "    <tr>\n",
       "      <th>1993</th>\n",
       "      <td>-77958.794078</td>\n",
       "      <td>334839.789515</td>\n",
       "      <td>-124943.834500</td>\n",
       "      <td>234955.718926</td>\n",
       "      <td>42444.788803</td>\n",
       "      <td>130799.748570</td>\n",
       "      <td>157907.683937</td>\n",
       "      <td>6044.607261</td>\n",
       "      <td>-30215.249792</td>\n",
       "      <td>-2720.550499</td>\n",
       "      <td>...</td>\n",
       "      <td>114190.168396</td>\n",
       "      <td>83161.608088</td>\n",
       "      <td>95634.574816</td>\n",
       "      <td>25854.091600</td>\n",
       "      <td>59907.318045</td>\n",
       "      <td>116524.128542</td>\n",
       "      <td>53347.504865</td>\n",
       "      <td>43300.284935</td>\n",
       "      <td>367099.124725</td>\n",
       "      <td>84983.103971</td>\n",
       "    </tr>\n",
       "    <tr>\n",
       "      <th>1994</th>\n",
       "      <td>140207.310934</td>\n",
       "      <td>152940.649420</td>\n",
       "      <td>-33330.436354</td>\n",
       "      <td>7772.137566</td>\n",
       "      <td>150235.052801</td>\n",
       "      <td>97454.646993</td>\n",
       "      <td>25691.904151</td>\n",
       "      <td>-76818.717406</td>\n",
       "      <td>-6693.963971</td>\n",
       "      <td>-83389.166910</td>\n",
       "      <td>...</td>\n",
       "      <td>-141962.907672</td>\n",
       "      <td>-200835.268287</td>\n",
       "      <td>-75875.748389</td>\n",
       "      <td>214030.362899</td>\n",
       "      <td>295063.555413</td>\n",
       "      <td>-86796.634638</td>\n",
       "      <td>539498.475527</td>\n",
       "      <td>-130504.367107</td>\n",
       "      <td>-53839.038198</td>\n",
       "      <td>-96623.765032</td>\n",
       "    </tr>\n",
       "    <tr>\n",
       "      <th>1995</th>\n",
       "      <td>-2420.958988</td>\n",
       "      <td>86241.179825</td>\n",
       "      <td>42257.077168</td>\n",
       "      <td>62020.627870</td>\n",
       "      <td>7571.239439</td>\n",
       "      <td>-15588.129605</td>\n",
       "      <td>55177.308420</td>\n",
       "      <td>163752.961209</td>\n",
       "      <td>69232.357454</td>\n",
       "      <td>-609.867434</td>\n",
       "      <td>...</td>\n",
       "      <td>-58437.752962</td>\n",
       "      <td>17494.030215</td>\n",
       "      <td>-7051.911418</td>\n",
       "      <td>94613.671160</td>\n",
       "      <td>17305.403634</td>\n",
       "      <td>56962.483322</td>\n",
       "      <td>-35759.663264</td>\n",
       "      <td>111039.184152</td>\n",
       "      <td>69275.953204</td>\n",
       "      <td>-31188.334675</td>\n",
       "    </tr>\n",
       "  </tbody>\n",
       "</table>\n",
       "<p>4 rows × 3650 columns</p>\n",
       "</div>"
      ],
      "text/plain": [
       "               0              1              2              3     \\\n",
       "1992  125822.459981  -24572.668866 -269811.700635 -195126.474203   \n",
       "1993  -77958.794078  334839.789515 -124943.834500  234955.718926   \n",
       "1994  140207.310934  152940.649420  -33330.436354    7772.137566   \n",
       "1995   -2420.958988   86241.179825   42257.077168   62020.627870   \n",
       "\n",
       "               4              5              6              7     \\\n",
       "1992  274422.405004   -2642.929811   55841.742259 -176847.193256   \n",
       "1993   42444.788803  130799.748570  157907.683937    6044.607261   \n",
       "1994  150235.052801   97454.646993   25691.904151  -76818.717406   \n",
       "1995    7571.239439  -15588.129605   55177.308420  163752.961209   \n",
       "\n",
       "               8              9     ...           3640           3641  \\\n",
       "1992 -140369.792670 -388913.843779  ...  -80358.297627  -62681.870495   \n",
       "1993  -30215.249792   -2720.550499  ...  114190.168396   83161.608088   \n",
       "1994   -6693.963971  -83389.166910  ... -141962.907672 -200835.268287   \n",
       "1995   69232.357454    -609.867434  ...  -58437.752962   17494.030215   \n",
       "\n",
       "              3642           3643           3644           3645  \\\n",
       "1992 -34258.467703 -363519.496675  218045.856846   41261.938158   \n",
       "1993  95634.574816   25854.091600   59907.318045  116524.128542   \n",
       "1994 -75875.748389  214030.362899  295063.555413  -86796.634638   \n",
       "1995  -7051.911418   94613.671160   17305.403634   56962.483322   \n",
       "\n",
       "               3646           3647           3648           3649  \n",
       "1992  117661.585296  131490.047258  173495.068746  120505.200705  \n",
       "1993   53347.504865   43300.284935  367099.124725   84983.103971  \n",
       "1994  539498.475527 -130504.367107  -53839.038198  -96623.765032  \n",
       "1995  -35759.663264  111039.184152   69275.953204  -31188.334675  \n",
       "\n",
       "[4 rows x 3650 columns]"
      ]
     },
     "execution_count": 24,
     "metadata": {},
     "output_type": "execute_result"
    }
   ],
   "source": [
    "np.random.seed(123456)\n",
    "\n",
    "df = pd.DataFrame([np.random.normal(32000,200000,3650), \n",
    "                   np.random.normal(43000,100000,3650), \n",
    "                   np.random.normal(43500,140000,3650), \n",
    "                   np.random.normal(48000,70000,3650)], \n",
    "                  index=[1992,1993,1994,1995])\n",
    "df.shape\n",
    "df.head(5)"
   ]
  },
  {
   "cell_type": "code",
   "execution_count": 25,
   "metadata": {},
   "outputs": [
    {
     "data": {
      "text/plain": [
       "1992    5539.445952\n",
       "1993    2731.531010\n",
       "1994    3816.154980\n",
       "1995    1942.088689\n",
       "dtype: float64"
      ]
     },
     "execution_count": 25,
     "metadata": {},
     "output_type": "execute_result"
    }
   ],
   "source": [
    "N = df.shape[1]\n",
    "threshold=42000\n",
    "confidence_interval = 0.095\n",
    "years_mean = df.mean(axis=1)\n",
    "years_std = df.std(axis=1)\n",
    "percentiles = t.ppf(0.95, N-1)\n",
    "y_err = (years_std * percentiles) / np.sqrt(N)\n",
    "y_err"
   ]
  },
  {
   "cell_type": "code",
   "execution_count": 42,
   "metadata": {},
   "outputs": [
    {
     "data": {
      "text/plain": [
       "<Figure size 1200x900 with 0 Axes>"
      ]
     },
     "execution_count": 42,
     "metadata": {},
     "output_type": "execute_result"
    },
    {
     "data": {
      "text/plain": [
       "<matplotlib.lines.Line2D at 0x1e829c62848>"
      ]
     },
     "execution_count": 42,
     "metadata": {},
     "output_type": "execute_result"
    },
    {
     "data": {
      "text/plain": [
       "Text(0.5, 1.0, 'Sample-Oriented Task-Driven Visualizations\\n (Ferreira et al, 2014)')"
      ]
     },
     "execution_count": 42,
     "metadata": {},
     "output_type": "execute_result"
    },
    {
     "data": {
      "text/plain": [
       "([<matplotlib.axis.XTick at 0x1e826871cc8>,\n",
       "  <matplotlib.axis.XTick at 0x1e829d01d48>,\n",
       "  <matplotlib.axis.XTick at 0x1e829d010c8>,\n",
       "  <matplotlib.axis.XTick at 0x1e829d4e908>],\n",
       " <a list of 4 Text xticklabel objects>)"
      ]
     },
     "execution_count": 42,
     "metadata": {},
     "output_type": "execute_result"
    },
    {
     "data": {
      "image/png": "[encoded data removed]",
      "text/plain": [
       "<Figure size 1200x900 with 1 Axes>"
      ]
     },
     "metadata": {
      "needs_background": "light"
     },
     "output_type": "display_data"
    }
   ],
   "source": [
    "plt.figure(figsize=(8, 6), dpi=150)\n",
    "\n",
    "# Drawing bars and threshold line\n",
    "bar_colors = ['blue', 'white', 'red', 'red']\n",
    "bars = plt.bar(x=np.arange(df.shape[0]), height=years_mean, yerr=y_err, alpha=0.65, color=bar_colors, edgecolor='black')\n",
    "plt.axhline(y = threshold, color = 'grey', alpha = 1)\n",
    "\n",
    "# Setting the axis and title\n",
    "plt.title('Sample-Oriented Task-Driven Visualizations\\n (Ferreira et al, 2014)')\n",
    "plt.xticks(range(df.shape[0]), ['1992', '1993', '1994', '1995'], alpha = 0.8)\n",
    "\n",
    "# Removing the upper and right axis line of the chart\n",
    "plt.gca().spines['top'].set_visible(False)\n",
    "plt.gca().spines['right'].set_visible(False)\n",
    "\n",
    "plt.show()"
   ]
  },
  {
   "cell_type": "code",
   "execution_count": null,
   "metadata": {},
   "outputs": [],
   "source": []
  }
 ],
 "metadata": {
  "kernelspec": {
   "display_name": "Python 3",
   "language": "python",
   "name": "python3"
  },
  "language_info": {
   "codemirror_mode": {
    "name": "ipython",
    "version": 3
   },
   "file_extension": ".py",
   "mimetype": "text/x-python",
   "name": "python",
   "nbconvert_exporter": "python",
   "pygments_lexer": "ipython3",
   "version": "3.7.4"
  },
  "toc": {
   "base_numbering": 1,
   "nav_menu": {},
   "number_sections": true,
   "sideBar": true,
   "skip_h1_title": false,
   "title_cell": "Table of Contents",
   "title_sidebar": "Contents",
   "toc_cell": false,
   "toc_position": {},
   "toc_section_display": true,
   "toc_window_display": false
  }
 },
 "nbformat": 4,
 "nbformat_minor": 2
}
